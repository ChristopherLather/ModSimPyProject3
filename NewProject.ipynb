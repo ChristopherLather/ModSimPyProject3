{
 "cells": [
  {
   "cell_type": "markdown",
   "metadata": {},
   "source": [
    "Hi CJ!!!!!!!!!!\n"
   ]
  },
  {
   "cell_type": "markdown",
   "metadata": {
    "collapsed": true
   },
   "source": [
    "Deck the Halls!!! Fa la la la la"
   ]
  },
  {
   "cell_type": "code",
   "execution_count": null,
   "metadata": {
    "collapsed": true
   },
   "outputs": [],
   "source": [
    "def slope_func(state, t, system):\n",
    "\n",
    "x, y, vx, vy = state\n",
    "unpack(system)\n",
    "\n",
    "a_grav = Vector(0, -g)\n",
    "v = Vector(vx, vy)\n",
    "f_drag = -rho * v.mag * v * C_d * area / 2\n",
    "a_drag = f_drag / mass\n",
    "a = a_grav + a_drag\n",
    "\n",
    "return v.x, v.y, a.x, a.y"
   ]
  }
 ],
 "metadata": {
  "kernelspec": {
   "display_name": "Python 3",
   "language": "python",
   "name": "python3"
  },
  "language_info": {
   "codemirror_mode": {
    "name": "ipython",
    "version": 3
   },
   "file_extension": ".py",
   "mimetype": "text/x-python",
   "name": "python",
   "nbconvert_exporter": "python",
   "pygments_lexer": "ipython3",
   "version": "3.6.1"
  }
 },
 "nbformat": 4,
 "nbformat_minor": 2
}
