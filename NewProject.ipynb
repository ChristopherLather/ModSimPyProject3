{
 "cells": [
  {
   "cell_type": "markdown",
   "metadata": {},
   "source": [
    "Hi CJ!!!!!!!!!!\n"
   ]
  },
  {
   "cell_type": "markdown",
   "metadata": {
    "collapsed": true
   },
   "source": [
    "Deck the Halls!!! Fa la la la la"
   ]
  },
  {
   "cell_type": "markdown",
   "metadata": {
    "collapsed": true
   },
   "source": [
    "I added this line."
   ]
  },
  {
   "cell_type": "code",
   "execution_count": 2,
   "metadata": {
    "collapsed": true
   },
   "outputs": [],
   "source": [
<<<<<<< HEAD
    "def slope_func(state, t, system):\n",
    "\n",
    "x, y, vx, vy = state\n",
    "unpack(system)\n",
    "\n",
    "a_grav = Vector(0, -g)\n",
    "v = Vector(vx, vy)\n",
    "f_drag = -rho * v.mag * v * C_d * area / 2\n",
    "a_drag = f_drag / mass\n",
    "a = a_grav + a_drag\n",
    "\n",
    "return v.x, v.y, a.x, a.y"
=======
    "%matplotlib notebook\n",
    "\n",
    "from modsim import *\n",
    "\n",
    "m = UNITS.meter\n",
    "s = UNITS.second\n",
    "kg = UNITS.kilogram\n",
    "degree = UNITS.degree\n",
    "radian = UNITS.radian"
   ]
  },
  {
   "cell_type": "code",
   "execution_count": 3,
   "metadata": {
    "collapsed": true
   },
   "outputs": [],
   "source": [
    "#Taken from baseball problem, to insert own values\n",
    "\n",
    "condition = Condition(x = 0 * m, \n",
    "                      y = 0 * m,\n",
    "                      g = 9.8 * m/s**2,\n",
    "                      mass = 3.4e-3 * kg,\n",
    "                      diameter = .017* m,\n",
    "                      rho = 1.2 * kg/m**3,\n",
    "                      C_d = 0.5,\n",
    "                      angle = 0 * degree,\n",
    "                      velocity = 90 * m / s,\n",
    "                      duration = 20 * s)\n",
    "\n",
    "def make_system(condition):\n",
    "    \"\"\"Make a system object.\n",
    "    \n",
    "    condition: Condition object with angle, velocity, x, y,\n",
    "               diameter, duration, g, mass, rho, and C_d\n",
    "               \n",
    "    returns: System object\n",
    "    \"\"\"\n",
    "    unpack(condition)\n",
    "    \n",
    "    # convert angle to degrees\n",
    "    theta = np.deg2rad(angle)\n",
    "    \n",
    "    # compute x and y components of velocity\n",
    "    vx, vy = pol2cart(theta, velocity)\n",
    "    \n",
    "    # make the initial state\n",
    "    init = State(x=x, y=y, vx=vx, vy=vy)\n",
    "    \n",
    "    # compute area from diameter\n",
    "    area = np.pi * (diameter/2)**2\n",
    "    \n",
    "    # compute timestamps\n",
    "    ts = linspace(0, duration, 101)\n",
    "    \n",
    "    return System(init=init, g=g, mass=mass, \n",
    "                  area=area, rho=rho, C_d=C_d, ts=ts)\n",
    "\n",
    "def slope_func(state, t, system):\n",
    "    \"\"\"Computes derivatives of the state variables.\n",
    "    \n",
    "    state: State (x, y, x velocity, y velocity)\n",
    "    t: time\n",
    "    system: System object with g, rho, C_d, area, mass\n",
    "    \n",
    "    returns: sequence (vx, vy, ax, ay)\n",
    "    \"\"\"\n",
    "    x, y, vx, vy = state\n",
    "    unpack(system)\n",
    "    \n",
    "    a_grav = Vector(0, -g)\n",
    "\n",
    "    v = Vector(vx, vy)\n",
    "    \n",
    "    f_drag = -rho * v.mag * v * C_d * area / 2\n",
    "    a_drag = f_drag / mass\n",
    "    \n",
    "    a = a_grav + a_drag\n",
    "    \n",
    "    return vx, vy, a.x, a.y\n",
    "\n",
    "def interpolate_range(results):\n",
    "    \"\"\"Computes the range of the ball when it lands.\n",
    "    \n",
    "    results: TimeFrame with x and y\n",
    "    \n",
    "    returns: distance in meters\n",
    "    \"\"\"\n",
    "    xs = results.x\n",
    "    ys = results.y\n",
    "    t_end = ys.index[-1]\n",
    "    \n",
    "    if ys[t_end] > 0:\n",
    "        msg = \"\"\"The final value of y is still positive;\n",
    "                 looks like the simulation didn't run\n",
    "                 long enough.\"\"\"\n",
    "        raise ValueError(msg)\n",
    "        \n",
    "    t_peak = ys.argmax()\n",
    "    descent = ys.loc[t_peak:]\n",
    "    T = interp_inverse(descent, kind='cubic')\n",
    "    \n",
    "    t_land = T(0)\n",
    "    X = interpolate(xs, kind='cubic')\n",
    "    return X(t_land)\n",
    "\n",
    "def range_func(angle, condition):  \n",
    "    \"\"\"Computes range for a given launch angle.\n",
    "    \n",
    "    angle: launch angle in degrees\n",
    "    condition: Condition object\n",
    "    \n",
    "    returns: distance in meters\n",
    "    \"\"\"\n",
    "    condition.set(angle=angle)\n",
    "    system = make_system(condition)\n",
    "    run_odeint(system, slope_func)\n",
    "    x_range = interpolate_range(system.results)\n",
    "    \n",
    "    print(angle)\n",
    "    \n",
    "    return x_range\n",
    "\n",
    "\n",
    "\n"
   ]
  },
  {
   "cell_type": "code",
   "execution_count": 4,
   "metadata": {},
   "outputs": [
    {
     "data": {
      "text/plain": [
       "(<Quantity(63.63961030678928, 'meter / second')>,\n",
       " <Quantity(63.63961030678928, 'meter / second')>,\n",
       " <Quantity(-29.75843757992773, 'meter / second ** 2')>,\n",
       " <Quantity(-39.55843757992773, 'meter / second ** 2')>)"
      ]
     },
     "execution_count": 4,
     "metadata": {},
     "output_type": "execute_result"
    }
   ],
   "source": [
    "system = make_system(condition)\n",
    "\n",
    "slope_func(system.init, 0, system)\n",
    "\n",
    "run_odeint(system, slope_func)\n",
    "\n",
    "interpolate_range(system.results)\n"
>>>>>>> a0a58e0306f27346c80bfb49ba5ea8b5a97c1fb8
   ]
  },
  {
   "cell_type": "code",
   "execution_count": null,
   "metadata": {
    "collapsed": true
   },
   "outputs": [],
   "source": []
  }
 ],
 "metadata": {
  "kernelspec": {
   "display_name": "Python 3",
   "language": "python",
   "name": "python3"
  },
  "language_info": {
   "codemirror_mode": {
    "name": "ipython",
    "version": 3
   },
   "file_extension": ".py",
   "mimetype": "text/x-python",
   "name": "python",
   "nbconvert_exporter": "python",
   "pygments_lexer": "ipython3",
   "version": "3.6.1"
  }
 },
 "nbformat": 4,
 "nbformat_minor": 2
}
